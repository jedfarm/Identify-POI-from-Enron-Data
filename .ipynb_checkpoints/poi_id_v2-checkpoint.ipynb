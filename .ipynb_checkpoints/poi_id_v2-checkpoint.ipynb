{
 "cells": [
  {
   "cell_type": "code",
   "execution_count": 1,
   "metadata": {},
   "outputs": [
    {
     "name": "stderr",
     "output_type": "stream",
     "text": [
      "/Users/jedfarm/anaconda/lib/python2.7/site-packages/sklearn/cross_validation.py:41: DeprecationWarning: This module was deprecated in version 0.18 in favor of the model_selection module into which all the refactored classes and functions are moved. Also note that the interface of the new CV iterators are different from that of this module. This module will be removed in 0.20.\n",
      "  \"This module will be removed in 0.20.\", DeprecationWarning)\n"
     ]
    }
   ],
   "source": [
    "from __future__ import print_function\n",
    "from sklearn.model_selection import train_test_split\n",
    "import pickle\n",
    "import sys\n",
    "sys.path.append(\"../tools/\")\n",
    "from feature_format import featureFormat, targetFeatureSplit\n",
    "import pandas as pd\n",
    "import numpy as np\n",
    "import matplotlib.pyplot as plt\n",
    "%matplotlib inline\n",
    "import itertools\n",
    "from tester import dump_classifier_and_data\n",
    "from sklearn.decomposition import PCA\n",
    "import tester\n",
    "from sklearn.naive_bayes import GaussianNB\n",
    "from sklearn.preprocessing import StandardScaler\n",
    "from sklearn.feature_selection import SelectKBest\n",
    "from sklearn.feature_selection import f_classif\n",
    "from sklearn.svm import SVC\n",
    "from sklearn.tree import DecisionTreeClassifier\n",
    "from sklearn.ensemble import AdaBoostClassifier\n",
    "from sklearn.feature_selection import RFE\n",
    "from sklearn.model_selection import GridSearchCV\n",
    "from sklearn.pipeline import Pipeline"
   ]
  },
  {
   "cell_type": "markdown",
   "metadata": {},
   "source": [
    "### Loading the working dataset"
   ]
  },
  {
   "cell_type": "code",
   "execution_count": 2,
   "metadata": {},
   "outputs": [],
   "source": [
    "data_dict = pickle.load(open(\"../final_project/final_project_dataset.pkl\", \"rb\"))\n",
    "df = pd.DataFrame.from_records(list(data_dict.values()))\n",
    "employees = pd.Series(list(data_dict.keys()))\n",
    "# set the index of df to be the employees series:\n",
    "df.set_index(employees, inplace=True)"
   ]
  },
  {
   "cell_type": "markdown",
   "metadata": {},
   "source": [
    "# DATA EXPLORATION"
   ]
  },
  {
   "cell_type": "markdown",
   "metadata": {},
   "source": [
    "We assume that all the email-related data were collected using valid email addresses, therefore if some people have their email addresses missing, that implies the corresponding email features will be missing as well (NaN). The contrary is not true as we are about to see:"
   ]
  },
  {
   "cell_type": "code",
   "execution_count": 3,
   "metadata": {},
   "outputs": [
    {
     "name": "stdout",
     "output_type": "stream",
     "text": [
      "Number of people with missing email data:  60\n",
      "Number of people with missing email address:  35\n"
     ]
    }
   ],
   "source": [
    "print(\"Number of people with missing email data: \",df['from_messages'].value_counts().max())\n",
    "print(\"Number of people with missing email address: \",df['email_address'].value_counts().max())"
   ]
  },
  {
   "cell_type": "markdown",
   "metadata": {},
   "source": [
    "Who are these people?"
   ]
  },
  {
   "cell_type": "code",
   "execution_count": 4,
   "metadata": {},
   "outputs": [
    {
     "name": "stdout",
     "output_type": "stream",
     "text": [
      "People with at least one email address but without email-related features: \n",
      "\n",
      "1 ELLIOTT STEVEN\n",
      "2 MORDAUNT KRISTINA M\n",
      "3 WESTFAHL RICHARD K\n",
      "4 WODRASKA JOHN\n",
      "5 ECHOLS JOHN B\n",
      "6 KOPPER MICHAEL J\n",
      "7 BERBERIAN DAVID\n",
      "8 DETMERING TIMOTHY J\n",
      "9 GOLD JOSEPH\n",
      "10 KISHKILL JOSEPH G\n",
      "11 LINDHOLM TOD A\n",
      "12 BUTTS ROBERT H\n",
      "13 HERMANN ROBERT J\n",
      "14 SCRIMSHAW MATTHEW\n",
      "15 FASTOW ANDREW S\n",
      "16 OVERDYKE JR JERE C\n",
      "17 STABLER FRANK\n",
      "18 PRENTICE JAMES\n",
      "19 WHITE JR THOMAS E\n",
      "20 CHRISTODOULOU DIOMEDES\n",
      "21 DIMICHELE RICHARD G\n",
      "22 YEAGER F SCOTT\n",
      "23 HIRKO JOSEPH\n",
      "24 PAI LOU L\n",
      "25 BAY FRANKLIN R\n"
     ]
    }
   ],
   "source": [
    "extrange_cases = df.index[(df['email_address'] != 'NaN') & (df['from_messages']=='NaN')].tolist()\n",
    "print(\"People with at least one email address but without email-related features: \")\n",
    "print()\n",
    "for i, name in enumerate(extrange_cases):\n",
    "    print(i + 1, name)"
   ]
  },
  {
   "cell_type": "markdown",
   "metadata": {},
   "source": [
    "Those are 25 extrange cases, where actual Enron employees with a valid email address,  do not have email-related features."
   ]
  },
  {
   "cell_type": "code",
   "execution_count": 5,
   "metadata": {},
   "outputs": [
    {
     "name": "stdout",
     "output_type": "stream",
     "text": [
      "People without an email address: \n",
      "\n",
      "1 BAXTER JOHN C\n",
      "2 LOWRY CHARLES P\n",
      "3 WALTERS GARETH W\n",
      "4 CHAN RONNIE\n",
      "5 BELFER ROBERT\n",
      "6 URQUHART JOHN A\n",
      "7 WHALEY DAVID A\n",
      "8 MENDELSOHN JOHN\n",
      "9 CLINE KENNETH W\n",
      "10 WAKEHAM JOHN\n",
      "11 DUNCAN JOHN H\n",
      "12 LEMAISTRE CHARLES\n",
      "13 SULLIVAN-SHAKLOVITZ COLLEEN\n",
      "14 WROBEL BRUCE\n",
      "15 MEYER JEROME J\n",
      "16 CUMBERLAND MICHAEL S\n",
      "17 GAHN ROBERT S\n",
      "18 GATHMANN WILLIAM D\n",
      "19 GILLIS JOHN\n",
      "20 BAZELIDES PHILIP J\n",
      "21 LOCKHART EUGENE E\n",
      "22 PEREIRA PAULO V. FERRAZ\n",
      "23 BLAKE JR. NORMAN P\n",
      "24 GRAY RODNEY\n",
      "25 THE TRAVEL AGENCY IN THE PARK\n",
      "26 NOLES JAMES L\n",
      "27 TOTAL\n",
      "28 JAEDICKE ROBERT\n",
      "29 WINOKUR JR. HERBERT S\n",
      "30 BADUM JAMES P\n",
      "31 REYNOLDS LAWRENCE\n",
      "32 YEAP SOON\n",
      "33 FUGH JOHN L\n",
      "34 SAVAGE FRANK\n",
      "35 GRAMM WENDY L\n"
     ]
    }
   ],
   "source": [
    "emailless_people = df.index[df['email_address'] == 'NaN'].tolist()\n",
    "print(\"People without an email address: \")\n",
    "print()\n",
    "for i, name in enumerate(emailless_people):\n",
    "    print(i + 1, name)"
   ]
  },
  {
   "cell_type": "markdown",
   "metadata": {},
   "source": [
    "Here we found two entities, that are not real people: THE TRAVEL AGENCY IN THE PARK and TOTAL. These entities do not contribute in any meaninful way to the purpose of this study, so let say that from this moment on we mark them for deletion. \n",
    "\n",
    "The email address is the only field that could not be converted to numeric in a meaninful way. We chose to remove it from the dataframe, because it is of no use for the purpose of identifying poi from the data given.\n",
    "Also, in the case of the poi column only zeroes (0) and ones (1) are allowed: 1 = poi, 0 = non-poi"
   ]
  },
  {
   "cell_type": "code",
   "execution_count": 6,
   "metadata": {},
   "outputs": [
    {
     "name": "stdout",
     "output_type": "stream",
     "text": [
      "<class 'pandas.core.frame.DataFrame'>\n",
      "Index: 146 entries, METTS MARK to GLISAN JR BEN F\n",
      "Data columns (total 20 columns):\n",
      "poi                          146 non-null int64\n",
      "salary                       95 non-null float64\n",
      "bonus                        82 non-null float64\n",
      "long_term_incentive          66 non-null float64\n",
      "deferred_income              49 non-null float64\n",
      "deferral_payments            39 non-null float64\n",
      "loan_advances                4 non-null float64\n",
      "other                        93 non-null float64\n",
      "expenses                     95 non-null float64\n",
      "director_fees                17 non-null float64\n",
      "total_payments               125 non-null float64\n",
      "exercised_stock_options      102 non-null float64\n",
      "restricted_stock             110 non-null float64\n",
      "restricted_stock_deferred    18 non-null float64\n",
      "total_stock_value            126 non-null float64\n",
      "from_messages                86 non-null float64\n",
      "from_poi_to_this_person      86 non-null float64\n",
      "from_this_person_to_poi      86 non-null float64\n",
      "shared_receipt_with_poi      86 non-null float64\n",
      "to_messages                  86 non-null float64\n",
      "dtypes: float64(19), int64(1)\n",
      "memory usage: 24.0+ KB\n"
     ]
    }
   ],
   "source": [
    "df=df.apply(lambda x: pd.to_numeric(x, errors='coerse'))\n",
    "del df['email_address']\n",
    "df['poi']=df['poi'].astype(int)\n",
    "\n",
    "cols = ['poi', 'salary', 'bonus', 'long_term_incentive', 'deferred_income', 'deferral_payments', 'loan_advances', \n",
    "        'other', 'expenses', 'director_fees', 'total_payments', 'exercised_stock_options', 'restricted_stock',\n",
    "        'restricted_stock_deferred', 'total_stock_value', 'from_messages', 'from_poi_to_this_person',\n",
    "        'from_this_person_to_poi', 'shared_receipt_with_poi', 'to_messages']\n",
    "df=df[cols]\n",
    "df.info()"
   ]
  },
  {
   "cell_type": "markdown",
   "metadata": {},
   "source": [
    "Counting the number of poi and non-poi in the dataset."
   ]
  },
  {
   "cell_type": "code",
   "execution_count": 7,
   "metadata": {},
   "outputs": [
    {
     "data": {
      "text/plain": [
       "0    128\n",
       "1     18\n",
       "Name: poi, dtype: int64"
      ]
     },
     "execution_count": 7,
     "metadata": {},
     "output_type": "execute_result"
    }
   ],
   "source": [
    "df['poi'].value_counts()"
   ]
  },
  {
   "cell_type": "markdown",
   "metadata": {},
   "source": [
    "# DATA CLEANSING"
   ]
  },
  {
   "cell_type": "markdown",
   "metadata": {},
   "source": [
    "As we have a relatively low number of data points, we have to proceed extra-carefully at removing them.\n",
    "For the moment, we are going to do it just to the items we previously have marked for deletion and we will analyze any further need in a case by case manner as we proceed with our ML algorithms."
   ]
  },
  {
   "cell_type": "code",
   "execution_count": 8,
   "metadata": {},
   "outputs": [],
   "source": [
    "df=df.drop(['TOTAL'])\n",
    "df=df.drop(['THE TRAVEL AGENCY IN THE PARK'])"
   ]
  },
  {
   "cell_type": "markdown",
   "metadata": {},
   "source": [
    "From the finantial data we learned that NaN means zero, therefore we proceed to make the corresponding changes in our dataframe."
   ]
  },
  {
   "cell_type": "code",
   "execution_count": 9,
   "metadata": {},
   "outputs": [],
   "source": [
    "df.iloc[:, 1:15] = df.iloc[:, 1:15].fillna(0)"
   ]
  },
  {
   "cell_type": "markdown",
   "metadata": {},
   "source": [
    "If the input of the financial data was done manually, that could have caused some mistakes. Let check it out: "
   ]
  },
  {
   "cell_type": "code",
   "execution_count": 10,
   "metadata": {},
   "outputs": [],
   "source": [
    "financial_cols = ['salary', 'bonus', 'long_term_incentive', 'deferred_income', 'deferral_payments', 'loan_advances', \n",
    "        'other', 'expenses', 'director_fees', 'total_payments', 'exercised_stock_options', 'restricted_stock',\n",
    "        'restricted_stock_deferred', 'total_stock_value']"
   ]
  },
  {
   "cell_type": "code",
   "execution_count": 11,
   "metadata": {
    "scrolled": true
   },
   "outputs": [
    {
     "data": {
      "text/html": [
       "<div>\n",
       "<style>\n",
       "    .dataframe thead tr:only-child th {\n",
       "        text-align: right;\n",
       "    }\n",
       "\n",
       "    .dataframe thead th {\n",
       "        text-align: left;\n",
       "    }\n",
       "\n",
       "    .dataframe tbody tr th {\n",
       "        vertical-align: top;\n",
       "    }\n",
       "</style>\n",
       "<table border=\"1\" class=\"dataframe\">\n",
       "  <thead>\n",
       "    <tr style=\"text-align: right;\">\n",
       "      <th></th>\n",
       "      <th>salary</th>\n",
       "      <th>bonus</th>\n",
       "      <th>long_term_incentive</th>\n",
       "      <th>deferred_income</th>\n",
       "      <th>deferral_payments</th>\n",
       "      <th>loan_advances</th>\n",
       "      <th>other</th>\n",
       "      <th>expenses</th>\n",
       "      <th>director_fees</th>\n",
       "      <th>total_payments</th>\n",
       "      <th>exercised_stock_options</th>\n",
       "      <th>restricted_stock</th>\n",
       "      <th>restricted_stock_deferred</th>\n",
       "      <th>total_stock_value</th>\n",
       "    </tr>\n",
       "  </thead>\n",
       "  <tbody>\n",
       "    <tr>\n",
       "      <th>BELFER ROBERT</th>\n",
       "      <td>0.0</td>\n",
       "      <td>0.0</td>\n",
       "      <td>0.0</td>\n",
       "      <td>0.0</td>\n",
       "      <td>-102500.0</td>\n",
       "      <td>0.0</td>\n",
       "      <td>0.0</td>\n",
       "      <td>0.0</td>\n",
       "      <td>3285.0</td>\n",
       "      <td>102500.0</td>\n",
       "      <td>3285.0</td>\n",
       "      <td>0.0</td>\n",
       "      <td>44093.0</td>\n",
       "      <td>-44093.0</td>\n",
       "    </tr>\n",
       "    <tr>\n",
       "      <th>BHATNAGAR SANJAY</th>\n",
       "      <td>0.0</td>\n",
       "      <td>0.0</td>\n",
       "      <td>0.0</td>\n",
       "      <td>0.0</td>\n",
       "      <td>0.0</td>\n",
       "      <td>0.0</td>\n",
       "      <td>137864.0</td>\n",
       "      <td>0.0</td>\n",
       "      <td>137864.0</td>\n",
       "      <td>15456290.0</td>\n",
       "      <td>2604490.0</td>\n",
       "      <td>-2604490.0</td>\n",
       "      <td>15456290.0</td>\n",
       "      <td>0.0</td>\n",
       "    </tr>\n",
       "  </tbody>\n",
       "</table>\n",
       "</div>"
      ],
      "text/plain": [
       "                  salary  bonus  long_term_incentive  deferred_income  \\\n",
       "BELFER ROBERT        0.0    0.0                  0.0              0.0   \n",
       "BHATNAGAR SANJAY     0.0    0.0                  0.0              0.0   \n",
       "\n",
       "                  deferral_payments  loan_advances     other  expenses  \\\n",
       "BELFER ROBERT             -102500.0            0.0       0.0       0.0   \n",
       "BHATNAGAR SANJAY                0.0            0.0  137864.0       0.0   \n",
       "\n",
       "                  director_fees  total_payments  exercised_stock_options  \\\n",
       "BELFER ROBERT            3285.0        102500.0                   3285.0   \n",
       "BHATNAGAR SANJAY       137864.0      15456290.0                2604490.0   \n",
       "\n",
       "                  restricted_stock  restricted_stock_deferred  \\\n",
       "BELFER ROBERT                  0.0                    44093.0   \n",
       "BHATNAGAR SANJAY        -2604490.0                 15456290.0   \n",
       "\n",
       "                  total_stock_value  \n",
       "BELFER ROBERT              -44093.0  \n",
       "BHATNAGAR SANJAY                0.0  "
      ]
     },
     "execution_count": 11,
     "metadata": {},
     "output_type": "execute_result"
    }
   ],
   "source": [
    "payments = financial_cols[:9]\n",
    "df[df[payments].sum(axis = 1) != df.total_payments][financial_cols]"
   ]
  },
  {
   "cell_type": "code",
   "execution_count": 12,
   "metadata": {},
   "outputs": [
    {
     "data": {
      "text/html": [
       "<div>\n",
       "<style>\n",
       "    .dataframe thead tr:only-child th {\n",
       "        text-align: right;\n",
       "    }\n",
       "\n",
       "    .dataframe thead th {\n",
       "        text-align: left;\n",
       "    }\n",
       "\n",
       "    .dataframe tbody tr th {\n",
       "        vertical-align: top;\n",
       "    }\n",
       "</style>\n",
       "<table border=\"1\" class=\"dataframe\">\n",
       "  <thead>\n",
       "    <tr style=\"text-align: right;\">\n",
       "      <th></th>\n",
       "      <th>salary</th>\n",
       "      <th>bonus</th>\n",
       "      <th>long_term_incentive</th>\n",
       "      <th>deferred_income</th>\n",
       "      <th>deferral_payments</th>\n",
       "      <th>loan_advances</th>\n",
       "      <th>other</th>\n",
       "      <th>expenses</th>\n",
       "      <th>director_fees</th>\n",
       "      <th>total_payments</th>\n",
       "      <th>exercised_stock_options</th>\n",
       "      <th>restricted_stock</th>\n",
       "      <th>restricted_stock_deferred</th>\n",
       "      <th>total_stock_value</th>\n",
       "    </tr>\n",
       "  </thead>\n",
       "  <tbody>\n",
       "    <tr>\n",
       "      <th>BELFER ROBERT</th>\n",
       "      <td>0.0</td>\n",
       "      <td>0.0</td>\n",
       "      <td>0.0</td>\n",
       "      <td>0.0</td>\n",
       "      <td>-102500.0</td>\n",
       "      <td>0.0</td>\n",
       "      <td>0.0</td>\n",
       "      <td>0.0</td>\n",
       "      <td>3285.0</td>\n",
       "      <td>102500.0</td>\n",
       "      <td>3285.0</td>\n",
       "      <td>0.0</td>\n",
       "      <td>44093.0</td>\n",
       "      <td>-44093.0</td>\n",
       "    </tr>\n",
       "    <tr>\n",
       "      <th>BHATNAGAR SANJAY</th>\n",
       "      <td>0.0</td>\n",
       "      <td>0.0</td>\n",
       "      <td>0.0</td>\n",
       "      <td>0.0</td>\n",
       "      <td>0.0</td>\n",
       "      <td>0.0</td>\n",
       "      <td>137864.0</td>\n",
       "      <td>0.0</td>\n",
       "      <td>137864.0</td>\n",
       "      <td>15456290.0</td>\n",
       "      <td>2604490.0</td>\n",
       "      <td>-2604490.0</td>\n",
       "      <td>15456290.0</td>\n",
       "      <td>0.0</td>\n",
       "    </tr>\n",
       "  </tbody>\n",
       "</table>\n",
       "</div>"
      ],
      "text/plain": [
       "                  salary  bonus  long_term_incentive  deferred_income  \\\n",
       "BELFER ROBERT        0.0    0.0                  0.0              0.0   \n",
       "BHATNAGAR SANJAY     0.0    0.0                  0.0              0.0   \n",
       "\n",
       "                  deferral_payments  loan_advances     other  expenses  \\\n",
       "BELFER ROBERT             -102500.0            0.0       0.0       0.0   \n",
       "BHATNAGAR SANJAY                0.0            0.0  137864.0       0.0   \n",
       "\n",
       "                  director_fees  total_payments  exercised_stock_options  \\\n",
       "BELFER ROBERT            3285.0        102500.0                   3285.0   \n",
       "BHATNAGAR SANJAY       137864.0      15456290.0                2604490.0   \n",
       "\n",
       "                  restricted_stock  restricted_stock_deferred  \\\n",
       "BELFER ROBERT                  0.0                    44093.0   \n",
       "BHATNAGAR SANJAY        -2604490.0                 15456290.0   \n",
       "\n",
       "                  total_stock_value  \n",
       "BELFER ROBERT              -44093.0  \n",
       "BHATNAGAR SANJAY                0.0  "
      ]
     },
     "execution_count": 12,
     "metadata": {},
     "output_type": "execute_result"
    }
   ],
   "source": [
    "stock_value = financial_cols[10:13]\n",
    "test_df=df[df[stock_value].sum(axis='columns') != df.total_stock_value][financial_cols]\n",
    "test_df"
   ]
  },
  {
   "cell_type": "markdown",
   "metadata": {},
   "source": [
    "Fortunately, there are errors in just two rows. Comparing against the .pdf document obtained from FindLaw, we acknowledged that the errors are in fact shifts of one column in each case, but in opposite directions. Let's correct them."
   ]
  },
  {
   "cell_type": "code",
   "execution_count": 13,
   "metadata": {},
   "outputs": [
    {
     "name": "stdout",
     "output_type": "stream",
     "text": [
      "All the financial data has been corrected\n"
     ]
    }
   ],
   "source": [
    "test_df.loc[['BELFER ROBERT']] = test_df.loc[['BELFER ROBERT']].shift(-1, axis =1).fillna(0)\n",
    "test_df.loc[['BHATNAGAR SANJAY']] = test_df.loc[['BHATNAGAR SANJAY']].shift(1, axis =1).fillna(0)\n",
    "\n",
    "df.update(test_df)\n",
    "\n",
    "if not (df[df[payments].sum(axis = 1) != df.total_payments].shape[0] | df[df[stock_value].sum(\n",
    "    axis='columns') != df.total_stock_value][financial_cols].shape[0]):\n",
    "    print(\"All the financial data has been corrected\")\n",
    "else:\n",
    "    print(\"Some errors remain\")"
   ]
  },
  {
   "cell_type": "markdown",
   "metadata": {},
   "source": [
    "After adjusting our financial data, the number of NaN values was dramatically reduced from 1323 up to 290, which ultimately is the amount of missing email-related entries."
   ]
  },
  {
   "cell_type": "code",
   "execution_count": 14,
   "metadata": {},
   "outputs": [
    {
     "name": "stdout",
     "output_type": "stream",
     "text": [
      "Number of email-related missing data:  290\n"
     ]
    }
   ],
   "source": [
    "print(\"Number of email-related missing data: \", df.isnull().sum().sum())"
   ]
  },
  {
   "cell_type": "markdown",
   "metadata": {},
   "source": [
    "We have a few amount of data available. In the case of poi, there are just 18 people in our dataset, four of them (over 20%) did not have email-related data."
   ]
  },
  {
   "cell_type": "code",
   "execution_count": 15,
   "metadata": {},
   "outputs": [
    {
     "name": "stdout",
     "output_type": "stream",
     "text": [
      "Number of poi without email data:  4\n"
     ]
    }
   ],
   "source": [
    "print(\"Number of poi without email data: \", df[(df['poi']==1) & (~df.to_messages.notnull())].shape[0])"
   ]
  },
  {
   "cell_type": "markdown",
   "metadata": {},
   "source": [
    "# DATA COMPLETION"
   ]
  },
  {
   "cell_type": "markdown",
   "metadata": {},
   "source": [
    "We wondered what to do with those missing entries. As we were going to use the Enron email data anyway to create new features, we decided to launch a search for those missing email addresses. That proved to be a time consuming task. After searching with a complex pattern of regular expresions and using specific search criteria based on the observed email addresses patterns, we were able to find up to 424 different email addresses linked to the people under study. Our search methods were far from optimal as they included final manual adjudications in many cases. That is why we have reasons to believe that there could be more email addresses than the ones we were able to find (but we decided to leave that as a subject of a more detailed study to be carried out in the future). In any case, our search allowed us to find some of the missing email addresses and with that information, we built the email-based existing features for the employees including those \"extrange 25 cases\" where no features were listed even tough there were email addresses available. The code is too large to be inserted here, but we created a text file with the procedure followed alonside with the script files we used."
   ]
  },
  {
   "cell_type": "code",
   "execution_count": 16,
   "metadata": {},
   "outputs": [],
   "source": [
    "new_data_dict = pickle.load(open(\"../final_project/new_data_dict.pickle\", \"rb\"))\n",
    "df_new = pd.DataFrame.from_records(list(new_data_dict.values()))\n",
    "employees = pd.Series(list(new_data_dict.keys()))\n",
    "# set the index of df_new to be the employees series:\n",
    "df_new.set_index(employees, inplace=True)"
   ]
  },
  {
   "cell_type": "markdown",
   "metadata": {},
   "source": [
    "### People for which we were able to recover email-related information."
   ]
  },
  {
   "cell_type": "code",
   "execution_count": 17,
   "metadata": {},
   "outputs": [
    {
     "data": {
      "text/html": [
       "<div>\n",
       "<style>\n",
       "    .dataframe thead tr:only-child th {\n",
       "        text-align: right;\n",
       "    }\n",
       "\n",
       "    .dataframe thead th {\n",
       "        text-align: left;\n",
       "    }\n",
       "\n",
       "    .dataframe tbody tr th {\n",
       "        vertical-align: top;\n",
       "    }\n",
       "</style>\n",
       "<table border=\"1\" class=\"dataframe\">\n",
       "  <thead>\n",
       "    <tr style=\"text-align: right;\">\n",
       "      <th></th>\n",
       "      <th>from_messages</th>\n",
       "      <th>from_poi_to_this_person</th>\n",
       "      <th>from_this_person_to_poi</th>\n",
       "      <th>shared_receipt_with_poi</th>\n",
       "      <th>to_messages</th>\n",
       "    </tr>\n",
       "  </thead>\n",
       "  <tbody>\n",
       "    <tr>\n",
       "      <th>ELLIOTT STEVEN</th>\n",
       "      <td>0</td>\n",
       "      <td>8</td>\n",
       "      <td>0</td>\n",
       "      <td>87</td>\n",
       "      <td>194</td>\n",
       "    </tr>\n",
       "    <tr>\n",
       "      <th>MORDAUNT KRISTINA M</th>\n",
       "      <td>6</td>\n",
       "      <td>7</td>\n",
       "      <td>3</td>\n",
       "      <td>121</td>\n",
       "      <td>403</td>\n",
       "    </tr>\n",
       "    <tr>\n",
       "      <th>WESTFAHL RICHARD K</th>\n",
       "      <td>2</td>\n",
       "      <td>36</td>\n",
       "      <td>0</td>\n",
       "      <td>21</td>\n",
       "      <td>64</td>\n",
       "    </tr>\n",
       "    <tr>\n",
       "      <th>CHAN RONNIE</th>\n",
       "      <td>0</td>\n",
       "      <td>2</td>\n",
       "      <td>0</td>\n",
       "      <td>12</td>\n",
       "      <td>10</td>\n",
       "    </tr>\n",
       "    <tr>\n",
       "      <th>WODRASKA JOHN</th>\n",
       "      <td>0</td>\n",
       "      <td>0</td>\n",
       "      <td>0</td>\n",
       "      <td>13</td>\n",
       "      <td>96</td>\n",
       "    </tr>\n",
       "    <tr>\n",
       "      <th>URQUHART JOHN A</th>\n",
       "      <td>0</td>\n",
       "      <td>0</td>\n",
       "      <td>0</td>\n",
       "      <td>0</td>\n",
       "      <td>1</td>\n",
       "    </tr>\n",
       "    <tr>\n",
       "      <th>WHALEY DAVID A</th>\n",
       "      <td>0</td>\n",
       "      <td>4</td>\n",
       "      <td>0</td>\n",
       "      <td>0</td>\n",
       "      <td>5</td>\n",
       "    </tr>\n",
       "    <tr>\n",
       "      <th>ECHOLS JOHN B</th>\n",
       "      <td>8</td>\n",
       "      <td>8</td>\n",
       "      <td>5</td>\n",
       "      <td>78</td>\n",
       "      <td>90</td>\n",
       "    </tr>\n",
       "    <tr>\n",
       "      <th>CLINE KENNETH W</th>\n",
       "      <td>0</td>\n",
       "      <td>0</td>\n",
       "      <td>0</td>\n",
       "      <td>3</td>\n",
       "      <td>3</td>\n",
       "    </tr>\n",
       "    <tr>\n",
       "      <th>KOPPER MICHAEL J</th>\n",
       "      <td>0</td>\n",
       "      <td>11</td>\n",
       "      <td>0</td>\n",
       "      <td>183</td>\n",
       "      <td>192</td>\n",
       "    </tr>\n",
       "    <tr>\n",
       "      <th>BERBERIAN DAVID</th>\n",
       "      <td>1</td>\n",
       "      <td>5</td>\n",
       "      <td>0</td>\n",
       "      <td>158</td>\n",
       "      <td>159</td>\n",
       "    </tr>\n",
       "    <tr>\n",
       "      <th>DETMERING TIMOTHY J</th>\n",
       "      <td>13</td>\n",
       "      <td>30</td>\n",
       "      <td>4</td>\n",
       "      <td>174</td>\n",
       "      <td>272</td>\n",
       "    </tr>\n",
       "    <tr>\n",
       "      <th>GOLD JOSEPH</th>\n",
       "      <td>6</td>\n",
       "      <td>17</td>\n",
       "      <td>0</td>\n",
       "      <td>891</td>\n",
       "      <td>1060</td>\n",
       "    </tr>\n",
       "    <tr>\n",
       "      <th>DUNCAN JOHN H</th>\n",
       "      <td>8</td>\n",
       "      <td>0</td>\n",
       "      <td>8</td>\n",
       "      <td>59</td>\n",
       "      <td>45</td>\n",
       "    </tr>\n",
       "    <tr>\n",
       "      <th>KISHKILL JOSEPH G</th>\n",
       "      <td>19</td>\n",
       "      <td>52</td>\n",
       "      <td>2</td>\n",
       "      <td>274</td>\n",
       "      <td>392</td>\n",
       "    </tr>\n",
       "    <tr>\n",
       "      <th>SULLIVAN-SHAKLOVITZ COLLEEN</th>\n",
       "      <td>221</td>\n",
       "      <td>9</td>\n",
       "      <td>0</td>\n",
       "      <td>426</td>\n",
       "      <td>1666</td>\n",
       "    </tr>\n",
       "    <tr>\n",
       "      <th>WROBEL BRUCE</th>\n",
       "      <td>3</td>\n",
       "      <td>0</td>\n",
       "      <td>3</td>\n",
       "      <td>0</td>\n",
       "      <td>0</td>\n",
       "    </tr>\n",
       "    <tr>\n",
       "      <th>LINDHOLM TOD A</th>\n",
       "      <td>18</td>\n",
       "      <td>17</td>\n",
       "      <td>4</td>\n",
       "      <td>170</td>\n",
       "      <td>260</td>\n",
       "    </tr>\n",
       "    <tr>\n",
       "      <th>BUTTS ROBERT H</th>\n",
       "      <td>5</td>\n",
       "      <td>18</td>\n",
       "      <td>0</td>\n",
       "      <td>199</td>\n",
       "      <td>283</td>\n",
       "    </tr>\n",
       "    <tr>\n",
       "      <th>CUMBERLAND MICHAEL S</th>\n",
       "      <td>9</td>\n",
       "      <td>34</td>\n",
       "      <td>0</td>\n",
       "      <td>94</td>\n",
       "      <td>138</td>\n",
       "    </tr>\n",
       "    <tr>\n",
       "      <th>HERMANN ROBERT J</th>\n",
       "      <td>3</td>\n",
       "      <td>14</td>\n",
       "      <td>3</td>\n",
       "      <td>194</td>\n",
       "      <td>174</td>\n",
       "    </tr>\n",
       "    <tr>\n",
       "      <th>SCRIMSHAW MATTHEW</th>\n",
       "      <td>8</td>\n",
       "      <td>46</td>\n",
       "      <td>4</td>\n",
       "      <td>431</td>\n",
       "      <td>518</td>\n",
       "    </tr>\n",
       "    <tr>\n",
       "      <th>GATHMANN WILLIAM D</th>\n",
       "      <td>8</td>\n",
       "      <td>0</td>\n",
       "      <td>3</td>\n",
       "      <td>21</td>\n",
       "      <td>39</td>\n",
       "    </tr>\n",
       "    <tr>\n",
       "      <th>GILLIS JOHN</th>\n",
       "      <td>0</td>\n",
       "      <td>4</td>\n",
       "      <td>0</td>\n",
       "      <td>22</td>\n",
       "      <td>36</td>\n",
       "    </tr>\n",
       "    <tr>\n",
       "      <th>BAZELIDES PHILIP J</th>\n",
       "      <td>0</td>\n",
       "      <td>0</td>\n",
       "      <td>0</td>\n",
       "      <td>18</td>\n",
       "      <td>12</td>\n",
       "    </tr>\n",
       "    <tr>\n",
       "      <th>FASTOW ANDREW S</th>\n",
       "      <td>9</td>\n",
       "      <td>49</td>\n",
       "      <td>5</td>\n",
       "      <td>1136</td>\n",
       "      <td>1183</td>\n",
       "    </tr>\n",
       "    <tr>\n",
       "      <th>LOCKHART EUGENE E</th>\n",
       "      <td>2</td>\n",
       "      <td>0</td>\n",
       "      <td>2</td>\n",
       "      <td>6</td>\n",
       "      <td>0</td>\n",
       "    </tr>\n",
       "    <tr>\n",
       "      <th>OVERDYKE JR JERE C</th>\n",
       "      <td>3</td>\n",
       "      <td>33</td>\n",
       "      <td>0</td>\n",
       "      <td>374</td>\n",
       "      <td>465</td>\n",
       "    </tr>\n",
       "    <tr>\n",
       "      <th>STABLER FRANK</th>\n",
       "      <td>0</td>\n",
       "      <td>4</td>\n",
       "      <td>0</td>\n",
       "      <td>36</td>\n",
       "      <td>89</td>\n",
       "    </tr>\n",
       "    <tr>\n",
       "      <th>PRENTICE JAMES</th>\n",
       "      <td>6</td>\n",
       "      <td>8</td>\n",
       "      <td>2</td>\n",
       "      <td>72</td>\n",
       "      <td>344</td>\n",
       "    </tr>\n",
       "    <tr>\n",
       "      <th>NOLES JAMES L</th>\n",
       "      <td>3</td>\n",
       "      <td>0</td>\n",
       "      <td>0</td>\n",
       "      <td>26</td>\n",
       "      <td>42</td>\n",
       "    </tr>\n",
       "    <tr>\n",
       "      <th>WHITE JR THOMAS E</th>\n",
       "      <td>0</td>\n",
       "      <td>0</td>\n",
       "      <td>0</td>\n",
       "      <td>601</td>\n",
       "      <td>623</td>\n",
       "    </tr>\n",
       "    <tr>\n",
       "      <th>CHRISTODOULOU DIOMEDES</th>\n",
       "      <td>1</td>\n",
       "      <td>0</td>\n",
       "      <td>1</td>\n",
       "      <td>448</td>\n",
       "      <td>521</td>\n",
       "    </tr>\n",
       "    <tr>\n",
       "      <th>BADUM JAMES P</th>\n",
       "      <td>2</td>\n",
       "      <td>0</td>\n",
       "      <td>0</td>\n",
       "      <td>0</td>\n",
       "      <td>10</td>\n",
       "    </tr>\n",
       "    <tr>\n",
       "      <th>REYNOLDS LAWRENCE</th>\n",
       "      <td>0</td>\n",
       "      <td>0</td>\n",
       "      <td>0</td>\n",
       "      <td>13</td>\n",
       "      <td>16</td>\n",
       "    </tr>\n",
       "    <tr>\n",
       "      <th>DIMICHELE RICHARD G</th>\n",
       "      <td>8</td>\n",
       "      <td>8</td>\n",
       "      <td>1</td>\n",
       "      <td>154</td>\n",
       "      <td>256</td>\n",
       "    </tr>\n",
       "    <tr>\n",
       "      <th>YEAP SOON</th>\n",
       "      <td>0</td>\n",
       "      <td>0</td>\n",
       "      <td>0</td>\n",
       "      <td>11</td>\n",
       "      <td>11</td>\n",
       "    </tr>\n",
       "    <tr>\n",
       "      <th>YEAGER F SCOTT</th>\n",
       "      <td>0</td>\n",
       "      <td>10</td>\n",
       "      <td>0</td>\n",
       "      <td>81</td>\n",
       "      <td>88</td>\n",
       "    </tr>\n",
       "    <tr>\n",
       "      <th>HIRKO JOSEPH</th>\n",
       "      <td>3</td>\n",
       "      <td>4</td>\n",
       "      <td>3</td>\n",
       "      <td>104</td>\n",
       "      <td>106</td>\n",
       "    </tr>\n",
       "    <tr>\n",
       "      <th>PAI LOU L</th>\n",
       "      <td>0</td>\n",
       "      <td>25</td>\n",
       "      <td>0</td>\n",
       "      <td>542</td>\n",
       "      <td>544</td>\n",
       "    </tr>\n",
       "    <tr>\n",
       "      <th>BAY FRANKLIN R</th>\n",
       "      <td>1</td>\n",
       "      <td>10</td>\n",
       "      <td>0</td>\n",
       "      <td>47</td>\n",
       "      <td>124</td>\n",
       "    </tr>\n",
       "    <tr>\n",
       "      <th>FUGH JOHN L</th>\n",
       "      <td>0</td>\n",
       "      <td>0</td>\n",
       "      <td>0</td>\n",
       "      <td>30</td>\n",
       "      <td>27</td>\n",
       "    </tr>\n",
       "    <tr>\n",
       "      <th>SAVAGE FRANK</th>\n",
       "      <td>0</td>\n",
       "      <td>0</td>\n",
       "      <td>0</td>\n",
       "      <td>15</td>\n",
       "      <td>15</td>\n",
       "    </tr>\n",
       "    <tr>\n",
       "      <th>GRAMM WENDY L</th>\n",
       "      <td>6</td>\n",
       "      <td>2</td>\n",
       "      <td>0</td>\n",
       "      <td>1</td>\n",
       "      <td>20</td>\n",
       "    </tr>\n",
       "  </tbody>\n",
       "</table>\n",
       "</div>"
      ],
      "text/plain": [
       "                            from_messages from_poi_to_this_person  \\\n",
       "ELLIOTT STEVEN                          0                       8   \n",
       "MORDAUNT KRISTINA M                     6                       7   \n",
       "WESTFAHL RICHARD K                      2                      36   \n",
       "CHAN RONNIE                             0                       2   \n",
       "WODRASKA JOHN                           0                       0   \n",
       "URQUHART JOHN A                         0                       0   \n",
       "WHALEY DAVID A                          0                       4   \n",
       "ECHOLS JOHN B                           8                       8   \n",
       "CLINE KENNETH W                         0                       0   \n",
       "KOPPER MICHAEL J                        0                      11   \n",
       "BERBERIAN DAVID                         1                       5   \n",
       "DETMERING TIMOTHY J                    13                      30   \n",
       "GOLD JOSEPH                             6                      17   \n",
       "DUNCAN JOHN H                           8                       0   \n",
       "KISHKILL JOSEPH G                      19                      52   \n",
       "SULLIVAN-SHAKLOVITZ COLLEEN           221                       9   \n",
       "WROBEL BRUCE                            3                       0   \n",
       "LINDHOLM TOD A                         18                      17   \n",
       "BUTTS ROBERT H                          5                      18   \n",
       "CUMBERLAND MICHAEL S                    9                      34   \n",
       "HERMANN ROBERT J                        3                      14   \n",
       "SCRIMSHAW MATTHEW                       8                      46   \n",
       "GATHMANN WILLIAM D                      8                       0   \n",
       "GILLIS JOHN                             0                       4   \n",
       "BAZELIDES PHILIP J                      0                       0   \n",
       "FASTOW ANDREW S                         9                      49   \n",
       "LOCKHART EUGENE E                       2                       0   \n",
       "OVERDYKE JR JERE C                      3                      33   \n",
       "STABLER FRANK                           0                       4   \n",
       "PRENTICE JAMES                          6                       8   \n",
       "NOLES JAMES L                           3                       0   \n",
       "WHITE JR THOMAS E                       0                       0   \n",
       "CHRISTODOULOU DIOMEDES                  1                       0   \n",
       "BADUM JAMES P                           2                       0   \n",
       "REYNOLDS LAWRENCE                       0                       0   \n",
       "DIMICHELE RICHARD G                     8                       8   \n",
       "YEAP SOON                               0                       0   \n",
       "YEAGER F SCOTT                          0                      10   \n",
       "HIRKO JOSEPH                            3                       4   \n",
       "PAI LOU L                               0                      25   \n",
       "BAY FRANKLIN R                          1                      10   \n",
       "FUGH JOHN L                             0                       0   \n",
       "SAVAGE FRANK                            0                       0   \n",
       "GRAMM WENDY L                           6                       2   \n",
       "\n",
       "                            from_this_person_to_poi shared_receipt_with_poi  \\\n",
       "ELLIOTT STEVEN                                    0                      87   \n",
       "MORDAUNT KRISTINA M                               3                     121   \n",
       "WESTFAHL RICHARD K                                0                      21   \n",
       "CHAN RONNIE                                       0                      12   \n",
       "WODRASKA JOHN                                     0                      13   \n",
       "URQUHART JOHN A                                   0                       0   \n",
       "WHALEY DAVID A                                    0                       0   \n",
       "ECHOLS JOHN B                                     5                      78   \n",
       "CLINE KENNETH W                                   0                       3   \n",
       "KOPPER MICHAEL J                                  0                     183   \n",
       "BERBERIAN DAVID                                   0                     158   \n",
       "DETMERING TIMOTHY J                               4                     174   \n",
       "GOLD JOSEPH                                       0                     891   \n",
       "DUNCAN JOHN H                                     8                      59   \n",
       "KISHKILL JOSEPH G                                 2                     274   \n",
       "SULLIVAN-SHAKLOVITZ COLLEEN                       0                     426   \n",
       "WROBEL BRUCE                                      3                       0   \n",
       "LINDHOLM TOD A                                    4                     170   \n",
       "BUTTS ROBERT H                                    0                     199   \n",
       "CUMBERLAND MICHAEL S                              0                      94   \n",
       "HERMANN ROBERT J                                  3                     194   \n",
       "SCRIMSHAW MATTHEW                                 4                     431   \n",
       "GATHMANN WILLIAM D                                3                      21   \n",
       "GILLIS JOHN                                       0                      22   \n",
       "BAZELIDES PHILIP J                                0                      18   \n",
       "FASTOW ANDREW S                                   5                    1136   \n",
       "LOCKHART EUGENE E                                 2                       6   \n",
       "OVERDYKE JR JERE C                                0                     374   \n",
       "STABLER FRANK                                     0                      36   \n",
       "PRENTICE JAMES                                    2                      72   \n",
       "NOLES JAMES L                                     0                      26   \n",
       "WHITE JR THOMAS E                                 0                     601   \n",
       "CHRISTODOULOU DIOMEDES                            1                     448   \n",
       "BADUM JAMES P                                     0                       0   \n",
       "REYNOLDS LAWRENCE                                 0                      13   \n",
       "DIMICHELE RICHARD G                               1                     154   \n",
       "YEAP SOON                                         0                      11   \n",
       "YEAGER F SCOTT                                    0                      81   \n",
       "HIRKO JOSEPH                                      3                     104   \n",
       "PAI LOU L                                         0                     542   \n",
       "BAY FRANKLIN R                                    0                      47   \n",
       "FUGH JOHN L                                       0                      30   \n",
       "SAVAGE FRANK                                      0                      15   \n",
       "GRAMM WENDY L                                     0                       1   \n",
       "\n",
       "                            to_messages  \n",
       "ELLIOTT STEVEN                      194  \n",
       "MORDAUNT KRISTINA M                 403  \n",
       "WESTFAHL RICHARD K                   64  \n",
       "CHAN RONNIE                          10  \n",
       "WODRASKA JOHN                        96  \n",
       "URQUHART JOHN A                       1  \n",
       "WHALEY DAVID A                        5  \n",
       "ECHOLS JOHN B                        90  \n",
       "CLINE KENNETH W                       3  \n",
       "KOPPER MICHAEL J                    192  \n",
       "BERBERIAN DAVID                     159  \n",
       "DETMERING TIMOTHY J                 272  \n",
       "GOLD JOSEPH                        1060  \n",
       "DUNCAN JOHN H                        45  \n",
       "KISHKILL JOSEPH G                   392  \n",
       "SULLIVAN-SHAKLOVITZ COLLEEN        1666  \n",
       "WROBEL BRUCE                          0  \n",
       "LINDHOLM TOD A                      260  \n",
       "BUTTS ROBERT H                      283  \n",
       "CUMBERLAND MICHAEL S                138  \n",
       "HERMANN ROBERT J                    174  \n",
       "SCRIMSHAW MATTHEW                   518  \n",
       "GATHMANN WILLIAM D                   39  \n",
       "GILLIS JOHN                          36  \n",
       "BAZELIDES PHILIP J                   12  \n",
       "FASTOW ANDREW S                    1183  \n",
       "LOCKHART EUGENE E                     0  \n",
       "OVERDYKE JR JERE C                  465  \n",
       "STABLER FRANK                        89  \n",
       "PRENTICE JAMES                      344  \n",
       "NOLES JAMES L                        42  \n",
       "WHITE JR THOMAS E                   623  \n",
       "CHRISTODOULOU DIOMEDES              521  \n",
       "BADUM JAMES P                        10  \n",
       "REYNOLDS LAWRENCE                    16  \n",
       "DIMICHELE RICHARD G                 256  \n",
       "YEAP SOON                            11  \n",
       "YEAGER F SCOTT                       88  \n",
       "HIRKO JOSEPH                        106  \n",
       "PAI LOU L                           544  \n",
       "BAY FRANKLIN R                      124  \n",
       "FUGH JOHN L                          27  \n",
       "SAVAGE FRANK                         15  \n",
       "GRAMM WENDY L                        20  "
      ]
     },
     "execution_count": 17,
     "metadata": {},
     "output_type": "execute_result"
    }
   ],
   "source": [
    "missing_data = df_new[((df_new.index.isin(extrange_cases)) | (\n",
    "    df_new.index.isin(emailless_people))) &(df_new['from_messages']!= 'NaN') ][cols[15:]]\n",
    "missing_data"
   ]
  },
  {
   "cell_type": "markdown",
   "metadata": {},
   "source": [
    "### Observations:\n",
    "\n",
    "Except for Colleen Sullivan-Shaklovitz, the amount of messages sent by the other 43 people is suspiciously low (or inexistent) for the timeframe considered. One particular case is worth noticing: Andrew S. Fastow.\n",
    "\n",
    "It is hard to believe that the chief financial officer of a corporation, (who received at least 1183 emails) just sent 9 emails in more than a year, including the time when the financial scandal shattered the company.\n",
    "A similar disproportion between emails sent and received is observed for the other 3 poi in this portion of the dataset.\n",
    "\n",
    "I believe that the process of emails removal from the dataset due to privacy protection issues that occurred at some point after the first release of the Enron email data, might have something to do not only with Fastow's sent emails low count, but also with the issues in the amount of email data belonging to the other 42 people as well. \n",
    "\n",
    "It is reasonable to asume that this particular situation could be at least in part responsible for the abcence of email-related features for those 25 \"extrange cases\" we found earlier.\n",
    "\n",
    "When we applied those found values to the existing dataframe, the number of NaN entries was dramatically reduced."
   ]
  },
  {
   "cell_type": "code",
   "execution_count": 18,
   "metadata": {},
   "outputs": [
    {
     "name": "stdout",
     "output_type": "stream",
     "text": [
      "Number of email-related missing data:  70\n"
     ]
    }
   ],
   "source": [
    "df = df.combine_first(missing_data)\n",
    "print(\"Number of email-related missing data: \", df.isnull().sum().sum())"
   ]
  },
  {
   "cell_type": "markdown",
   "metadata": {},
   "source": [
    "That means that by performing our search on the Enron email data,  we were able to recover approximately 75% of the missing email-related entries, including all the missing values for poi."
   ]
  },
  {
   "cell_type": "code",
   "execution_count": 19,
   "metadata": {},
   "outputs": [
    {
     "name": "stdout",
     "output_type": "stream",
     "text": [
      "Number of poi without email data:  0\n"
     ]
    }
   ],
   "source": [
    "df = df[cols]\n",
    "print(\"Number of poi without email data: \", df[(df['poi']==1) & (~df.to_messages.notnull())].shape[0])"
   ]
  },
  {
   "cell_type": "markdown",
   "metadata": {},
   "source": [
    "A good way to procede with the remaining NaN values is to impute them with the median for non-poi people."
   ]
  },
  {
   "cell_type": "code",
   "execution_count": 20,
   "metadata": {},
   "outputs": [
    {
     "name": "stdout",
     "output_type": "stream",
     "text": [
      "Amount of remaining NaN entries in the dataframe: 0\n"
     ]
    }
   ],
   "source": [
    "email_cols = cols[15:]\n",
    "df[email_cols]=df[email_cols].fillna(df.groupby(\"poi\")[email_cols].transform(\"median\"))\n",
    "print(\"Amount of remaining NaN entries in the dataframe:\", df.isnull().sum().sum())"
   ]
  },
  {
   "cell_type": "markdown",
   "metadata": {},
   "source": [
    "# CREATE NEW FEATURES"
   ]
  },
  {
   "cell_type": "markdown",
   "metadata": {},
   "source": [
    "Having the Enron email dataset in a workable shape, makes easy to create any number of new features. For this project we are going to try out the simpler ones we could have deviced. Two of our new features were just ratios of the existing ones (easily accomplished with the working dataset), and the rest was the result of working with the entire email dataset. \n",
    "In the second case, we created an intermediate feature, called pubIndex, that is not going to be used explicitly but it was involved in computing most of the new features; pubIndex accounts for the number of people involved in a given email (To and Cc fields) correcting for when people sent emails to themselves. The lowest possible value for this feature is zero (if someone sent an email just to him or herself with no Cc), it is equal to one if there is just a single person in the To field and none in the Cc field, and so on, there is in principle no upper limit for this feature.  \n",
    "\n",
    "### New features involving ratios of existing ones:\n",
    "\n",
    "- to_poi_rate: ratio of from_this_person_to_poi / from_messages\n",
    "\n",
    "- from_poi_rate: ratio of from_poi_to_this_person / to_messages\n",
    "\n",
    "### New features using the full Enron email dataset:\n",
    "\n",
    "- from_poi_cc_this_person: This is the complement of the existent from_poi_to_this_person, it takes into account the Cc field of the emails sent from poi accounts, it was corrected for any email that poi sent (Cc) to themselves.\n",
    "\n",
    "- median_from_poi_cc_this_person_pubIndex: We grouped all the emails sent from poi with Cc to a given person and calculated the median of the pubIndex feature.\n",
    "\n",
    "- median_from_poi_to_this_person_pubIndex: The same as above but for the field To.\n",
    "\n",
    "- median_cc_this_person_pubIndex: We grouped all the emails where a person was in the Cc field and calculated the median of the pubIndex feature.\n",
    "\n",
    "- median_from_this_person_pubIndex: We grouped all the emails sent by a given person and took the median of the pubIndex feature.\n",
    "\n",
    "The rest of the new features could be easily understood\n",
    "\n",
    "- median_from_this_person_cc_poi_pubIndex\n",
    "\n",
    "- median_from_this_person_to_poi_pubIndex\n",
    "\n",
    "- median_to_this_person_pubIndex\n",
    "\n"
   ]
  },
  {
   "cell_type": "code",
   "execution_count": 21,
   "metadata": {},
   "outputs": [],
   "source": [
    "df['to_poi_rate'] = df['from_this_person_to_poi']/df['from_messages']\n",
    "df['from_poi_rate'] = df['from_poi_to_this_person']/df['to_messages']\n",
    "df[['to_poi_rate', 'from_poi_rate']]=df[['to_poi_rate', 'from_poi_rate']].fillna(\n",
    "    df.groupby(\"poi\")[['to_poi_rate', 'from_poi_rate']].transform(\"median\")) \n",
    "new_feat = ['from_poi_cc_this_person', 'median_from_poi_cc_this_person_pubIndex', \n",
    "            'median_from_poi_to_this_person_pubIndex', 'median_cc_this_person_pubIndex', \n",
    "            'median_from_this_person_pubIndex','median_from_this_person_cc_poi_pubIndex', \n",
    "           'median_from_this_person_to_poi_pubIndex', 'median_to_this_person_pubIndex']\n",
    "nf_df = df_new[new_feat]\n",
    "nf_df=nf_df.apply(lambda x: pd.to_numeric(x, errors='coerse'))\n",
    "df = pd.concat([df, nf_df], axis=1)\n",
    "df[new_feat]=df[new_feat].fillna(df.groupby(\"poi\")[new_feat].transform(\"median\"))"
   ]
  },
  {
   "cell_type": "code",
   "execution_count": 22,
   "metadata": {},
   "outputs": [
    {
     "name": "stdout",
     "output_type": "stream",
     "text": [
      "Amount of remaining NaN entries in the dataframe: 0\n"
     ]
    }
   ],
   "source": [
    "print(\"Amount of remaining NaN entries in the dataframe:\", df.isnull().sum().sum())"
   ]
  },
  {
   "cell_type": "code",
   "execution_count": 23,
   "metadata": {},
   "outputs": [
    {
     "name": "stdout",
     "output_type": "stream",
     "text": [
      "Total number of features:  29\n"
     ]
    }
   ],
   "source": [
    "full_feat_cols = cols + ['to_poi_rate', 'from_poi_rate']  + new_feat\n",
    "#df = df[full_feat_cols]\n",
    "print(\"Total number of features: \", len(full_feat_cols)-1)"
   ]
  },
  {
   "cell_type": "markdown",
   "metadata": {},
   "source": [
    "# INITIAL ALGORITHM TRAINING"
   ]
  },
  {
   "cell_type": "markdown",
   "metadata": {},
   "source": [
    "### Three classifiers, data as is, all features. \n",
    "\n",
    "We decided to try out the Gaussian Naive Bayes, Decision Tree and AdaBoost classifiers for this project. "
   ]
  },
  {
   "cell_type": "code",
   "execution_count": 24,
   "metadata": {},
   "outputs": [
    {
     "name": "stdout",
     "output_type": "stream",
     "text": [
      "GaussianNB(priors=None)\n",
      "\tAccuracy: 0.76727\tPrecision: 0.25175\tRecall: 0.37800\tF1: 0.30222\tF2: 0.34354\n",
      "\tTotal predictions: 15000\tTrue positives:  756\tFalse positives: 2247\tFalse negatives: 1244\tTrue negatives: 10753\n",
      "\n"
     ]
    }
   ],
   "source": [
    "raw_data_dict = df.to_dict(orient = 'index')\n",
    "clf = GaussianNB()\n",
    "tester.dump_classifier_and_data(clf, raw_data_dict, full_feat_cols)\n",
    "tester.main();"
   ]
  },
  {
   "cell_type": "code",
   "execution_count": 25,
   "metadata": {},
   "outputs": [
    {
     "name": "stdout",
     "output_type": "stream",
     "text": [
      "DecisionTreeClassifier(class_weight=None, criterion='gini', max_depth=None,\n",
      "            max_features=None, max_leaf_nodes=None,\n",
      "            min_impurity_decrease=0.0, min_impurity_split=None,\n",
      "            min_samples_leaf=1, min_samples_split=2,\n",
      "            min_weight_fraction_leaf=0.0, presort=False, random_state=45,\n",
      "            splitter='best')\n",
      "\tAccuracy: 0.85280\tPrecision: 0.44486\tRecall: 0.41950\tF1: 0.43181\tF2: 0.42434\n",
      "\tTotal predictions: 15000\tTrue positives:  839\tFalse positives: 1047\tFalse negatives: 1161\tTrue negatives: 11953\n",
      "\n"
     ]
    }
   ],
   "source": [
    "clf = DecisionTreeClassifier(random_state = 45)\n",
    "tester.dump_classifier_and_data(clf, raw_data_dict, full_feat_cols)\n",
    "tester.main();"
   ]
  },
  {
   "cell_type": "code",
   "execution_count": 26,
   "metadata": {},
   "outputs": [
    {
     "name": "stdout",
     "output_type": "stream",
     "text": [
      "AdaBoostClassifier(algorithm='SAMME.R', base_estimator=None,\n",
      "          learning_rate=1.0, n_estimators=50, random_state=45)\n",
      "\tAccuracy: 0.85400\tPrecision: 0.43502\tRecall: 0.31800\tF1: 0.36742\tF2: 0.33608\n",
      "\tTotal predictions: 15000\tTrue positives:  636\tFalse positives:  826\tFalse negatives: 1364\tTrue negatives: 12174\n",
      "\n"
     ]
    }
   ],
   "source": [
    "clf = AdaBoostClassifier(random_state = 45)\n",
    "tester.dump_classifier_and_data(clf, raw_data_dict, full_feat_cols)\n",
    "tester.main();"
   ]
  },
  {
   "cell_type": "markdown",
   "metadata": {},
   "source": [
    "Right out the box only the Gaussian Naive Bayes classifier failed to meet the minimum requirement of 0.3 or higher in Accuracy, Recall and Precision. Let see if that could be fixed with scaling and changing the number of features."
   ]
  },
  {
   "cell_type": "markdown",
   "metadata": {},
   "source": [
    "### Three classifiers, data scaled, reduced number of features."
   ]
  },
  {
   "cell_type": "code",
   "execution_count": 27,
   "metadata": {},
   "outputs": [],
   "source": [
    "scaler = StandardScaler()\n",
    "s_scaled = scaler.fit_transform(df.iloc[:,1:])\n",
    "scaled_df = pd.DataFrame(s_scaled, index=df.index)\n",
    "scaled_df.insert(0, \"poi\", df.poi)\n",
    "scaled_df.columns = full_feat_cols\n",
    "scaled_data_dict = scaled_df.to_dict(orient = 'index')"
   ]
  },
  {
   "cell_type": "markdown",
   "metadata": {},
   "source": [
    "Scaling the data becomes necessary when we want to search for the most relevant features using a number of classifiers. In general,a very large number of features has a negative impact in the overall performance of a model, with a tendency to generate overfitting. We found the optimal number of features manually in the case of the Naive Bayes classifier using KBest. "
   ]
  },
  {
   "cell_type": "code",
   "execution_count": 28,
   "metadata": {
    "scrolled": true
   },
   "outputs": [
    {
     "name": "stderr",
     "output_type": "stream",
     "text": [
      "/Users/jedfarm/anaconda/lib/python2.7/site-packages/sklearn/feature_selection/univariate_selection.py:113: UserWarning: Features [25] are constant.\n",
      "  UserWarning)\n",
      "/Users/jedfarm/anaconda/lib/python2.7/site-packages/sklearn/feature_selection/univariate_selection.py:114: RuntimeWarning: invalid value encountered in divide\n",
      "  f = msb / msw\n"
     ]
    },
    {
     "name": "stdout",
     "output_type": "stream",
     "text": [
      "total_stock_value ===> 22.78\n",
      "exercised_stock_options ===> 22.61\n",
      "bonus ===> 21.06\n",
      "salary ===> 18.58\n",
      "median_from_this_person_to_poi_pubIndex ===> 15.4\n",
      "to_poi_rate ===> 12.59\n",
      "deferred_income ===> 11.56\n",
      "long_term_incentive ===> 10.07\n",
      "\n",
      "GaussianNB(priors=None)\n",
      "\tAccuracy: 0.83993\tPrecision: 0.40300\tRecall: 0.41650\tF1: 0.40964\tF2: 0.41373\n",
      "\tTotal predictions: 15000\tTrue positives:  833\tFalse positives: 1234\tFalse negatives: 1167\tTrue negatives: 11766\n",
      "\n"
     ]
    }
   ],
   "source": [
    "kbest_feat = 8\n",
    "selector = SelectKBest(f_classif, k=kbest_feat)\n",
    "select_k_best_classifier = selector.fit_transform(s_scaled , df.poi)\n",
    "scores = selector.scores_\n",
    "mask = selector.get_support() \n",
    "kselect_features = [] \n",
    "feat_importance = []\n",
    "for bool, feature, score in zip(mask, full_feat_cols[1:], scores):\n",
    "    if bool:\n",
    "        kselect_features.append(feature)\n",
    "        feat_importance.append([feature, round(score, 2)])\n",
    "feat_importance.sort(key=lambda x: x[1], reverse = True)\n",
    "for item in feat_importance:\n",
    "    print('{} ===> {}'.format(item[0], item[1]))\n",
    "print()\n",
    "kselect_df = pd.DataFrame(select_k_best_classifier, index = df.index, columns = kselect_features)\n",
    "kselect_df.insert(0, \"poi\", df.poi)\n",
    "kselect_data_dict = kselect_df.to_dict(orient = 'index')  \n",
    "clf = GaussianNB()\n",
    "dump_classifier_and_data(clf, kselect_data_dict, [\"poi\"] + kselect_features )\n",
    "tester.main()\n"
   ]
  },
  {
   "cell_type": "code",
   "execution_count": 29,
   "metadata": {},
   "outputs": [
    {
     "name": "stdout",
     "output_type": "stream",
     "text": [
      "to_poi_rate ===> 0.24\n",
      "expenses ===> 0.21\n",
      "other ===> 0.17\n",
      "shared_receipt_with_poi ===> 0.16\n",
      "from_messages ===> 0.09\n",
      "median_to_this_person_pubIndex ===> 0.08\n",
      "median_from_poi_to_this_person_pubIndex ===> 0.05\n",
      "\n",
      "DecisionTreeClassifier(class_weight=None, criterion='gini', max_depth=None,\n",
      "            max_features=None, max_leaf_nodes=None,\n",
      "            min_impurity_decrease=0.0, min_impurity_split=None,\n",
      "            min_samples_leaf=1, min_samples_split=2,\n",
      "            min_weight_fraction_leaf=0.0, presort=False, random_state=45,\n",
      "            splitter='best')\n",
      "\tAccuracy: 0.87853\tPrecision: 0.54719\tRecall: 0.51600\tF1: 0.53114\tF2: 0.52195\n",
      "\tTotal predictions: 15000\tTrue positives: 1032\tFalse positives:  854\tFalse negatives:  968\tTrue negatives: 12146\n",
      "\n"
     ]
    }
   ],
   "source": [
    "clf = DecisionTreeClassifier(random_state = 45)\n",
    "clf.fit(scaled_df.iloc[:,1:], scaled_df[\"poi\"])\n",
    "\n",
    "feat_importance = []\n",
    "for i in range(len(clf.feature_importances_)):\n",
    "    if clf.feature_importances_[i] > 0:\n",
    "        feat_importance.append([scaled_df.columns[i+1], round(clf.feature_importances_[i], 2)])\n",
    "feat_importance.sort(key=lambda x: x[1], reverse = True)\n",
    "for item in feat_importance:\n",
    "    print('{} ===> {}'.format(item[0], item[1]))\n",
    "print()\n",
    "tree_feat_list = [x[0] for x in feat_importance]\n",
    "tree_feat_list.insert(0, 'poi')\n",
    "tree_lim_df = scaled_df[tree_feat_list]\n",
    "lim_feat_data_dict = tree_lim_df.to_dict(orient = 'index')\n",
    "\n",
    "dump_classifier_and_data(clf, lim_feat_data_dict, tree_feat_list )\n",
    "tester.main()"
   ]
  },
  {
   "cell_type": "code",
   "execution_count": 30,
   "metadata": {},
   "outputs": [
    {
     "name": "stdout",
     "output_type": "stream",
     "text": [
      "shared_receipt_with_poi ===> 0.14\n",
      "other ===> 0.12\n",
      "total_payments ===> 0.08\n",
      "restricted_stock ===> 0.08\n",
      "exercised_stock_options ===> 0.06\n",
      "from_poi_rate ===> 0.06\n",
      "median_from_poi_cc_this_person_pubIndex ===> 0.06\n",
      "median_from_poi_to_this_person_pubIndex ===> 0.06\n",
      "median_cc_this_person_pubIndex ===> 0.06\n",
      "bonus ===> 0.04\n",
      "expenses ===> 0.04\n",
      "median_from_this_person_cc_poi_pubIndex ===> 0.04\n",
      "median_to_this_person_pubIndex ===> 0.04\n",
      "\n",
      "AdaBoostClassifier(algorithm='SAMME.R', base_estimator=None,\n",
      "          learning_rate=1.0, n_estimators=50, random_state=45)\n",
      "\tAccuracy: 0.86060\tPrecision: 0.47140\tRecall: 0.37500\tF1: 0.41771\tF2: 0.39099\n",
      "\tTotal predictions: 15000\tTrue positives:  750\tFalse positives:  841\tFalse negatives: 1250\tTrue negatives: 12159\n",
      "\n"
     ]
    }
   ],
   "source": [
    "clf = AdaBoostClassifier(random_state = 45)\n",
    "clf.fit(scaled_df.iloc[:,1:], scaled_df[\"poi\"])\n",
    "\n",
    "feat_importance = []\n",
    "for i in range(len(clf.feature_importances_)):\n",
    "    if clf.feature_importances_[i] > 0.02:\n",
    "        feat_importance.append([scaled_df.columns[i+1], round(clf.feature_importances_[i], 2)])\n",
    "feat_importance.sort(key=lambda x: x[1], reverse = True)\n",
    "for item in feat_importance:\n",
    "    print('{} ===> {}'.format(item[0], item[1]))\n",
    "print()\n",
    "feat_list = [x[0] for x in feat_importance]\n",
    "feat_list.insert(0, 'poi')\n",
    "lim_feat_sdata_dict = {}\n",
    "for key in scaled_data_dict:\n",
    "    lim_feat_sdata_dict[key] = {}\n",
    "    for feat in scaled_data_dict[key]:\n",
    "        if feat in feat_list:\n",
    "            lim_feat_sdata_dict[key][feat]= scaled_data_dict[key][feat]\n",
    "dump_classifier_and_data(clf, lim_feat_sdata_dict, feat_list )\n",
    "tester.main()"
   ]
  },
  {
   "cell_type": "markdown",
   "metadata": {},
   "source": [
    "By scaling the features and reducing the number of features we were able to increase the performance of all the classifiers. At this point we picked Decision Tree over Adaboost to proceed with algorithm tuning and the final assesment of the problem in part because of its slightly better performance but also due to its notably higher speed."
   ]
  },
  {
   "cell_type": "markdown",
   "metadata": {},
   "source": [
    "# ALGORITHM TUNING"
   ]
  },
  {
   "cell_type": "code",
   "execution_count": 31,
   "metadata": {
    "scrolled": true
   },
   "outputs": [
    {
     "name": "stderr",
     "output_type": "stream",
     "text": [
      "/Users/jedfarm/anaconda/lib/python2.7/site-packages/sklearn/metrics/classification.py:1135: UndefinedMetricWarning: F-score is ill-defined and being set to 0.0 due to no predicted samples.\n",
      "  'precision', 'predicted', average, warn_for)\n"
     ]
    },
    {
     "data": {
      "text/plain": [
       "{'criterion': 'entropy',\n",
       " 'max_depth': None,\n",
       " 'max_features': None,\n",
       " 'min_samples_split': 16}"
      ]
     },
     "execution_count": 31,
     "metadata": {},
     "output_type": "execute_result"
    }
   ],
   "source": [
    "# Testing Parameters. Decision Tree Classifier\n",
    "param_grid = dict(criterion = ['gini', 'entropy'] , \n",
    "                  min_samples_split = [2, 4, 8, 12, 16, 20, 24, 26, 28],\n",
    "                  max_depth = [None, 1, 2, 3, 4, 5, 6, 7],\n",
    "                  max_features = [None, 'sqrt', 'log2', 'auto'])\n",
    "clf = GridSearchCV(DecisionTreeClassifier(random_state = 45), param_grid = param_grid, cv=10,\n",
    "                       scoring='f1')\n",
    "clf.fit(tree_lim_df.iloc[:,1:], tree_lim_df.poi)\n",
    "clf.best_params_"
   ]
  },
  {
   "cell_type": "code",
   "execution_count": 32,
   "metadata": {},
   "outputs": [
    {
     "name": "stdout",
     "output_type": "stream",
     "text": [
      "DecisionTreeClassifier(class_weight=None, criterion='entropy', max_depth=None,\n",
      "            max_features=None, max_leaf_nodes=None,\n",
      "            min_impurity_decrease=0.0, min_impurity_split=None,\n",
      "            min_samples_leaf=1, min_samples_split=16,\n",
      "            min_weight_fraction_leaf=0.0, presort=False, random_state=None,\n",
      "            splitter='best')\n",
      "\tAccuracy: 0.89553\tPrecision: 0.62421\tRecall: 0.54400\tF1: 0.58135\tF2: 0.55835\n",
      "\tTotal predictions: 15000\tTrue positives: 1088\tFalse positives:  655\tFalse negatives:  912\tTrue negatives: 12345\n",
      "\n"
     ]
    }
   ],
   "source": [
    "clf = DecisionTreeClassifier(criterion = 'entropy', max_depth = None, max_features = None, \n",
    "                            min_samples_split = 16)\n",
    "dump_classifier_and_data(clf, lim_feat_data_dict, tree_feat_list )\n",
    "tester.main()"
   ]
  },
  {
   "cell_type": "code",
   "execution_count": 73,
   "metadata": {},
   "outputs": [
    {
     "name": "stdout",
     "output_type": "stream",
     "text": [
      "Number of components:  6\n",
      "Retain 61.0162195215 % of the variance\n"
     ]
    }
   ],
   "source": [
    "# PCA\n",
    "for nc in range(1, scaled_df.shape[1]-1):\n",
    "    my_model = PCA(n_components=nc)\n",
    "    ft = my_model.fit_transform(scaled_df.iloc[:,1:])\n",
    "    if my_model.explained_variance_ratio_.cumsum()[-1] >= 0.60:\n",
    "            pca_df = pd.DataFrame(ft,  index=scaled_df.index)\n",
    "            pca_df.insert(0, \"poi\", scaled_df.poi)\n",
    "            pca_data_dict = pca_df.to_dict(orient = 'index')\n",
    "            pca_feat_list = ['poi'] + list(range(nc))\n",
    "            print(\"Number of components: \", nc)\n",
    "            print (\"Retain\", my_model.explained_variance_ratio_.cumsum()[-1] * 100, \"% of the variance\")\n",
    "            break\n",
    "#print (my_model.explained_variance_)\n",
    "#print (my_model.explained_variance_ratio_)\n",
    "\n",
    "\n",
    " "
   ]
  },
  {
   "cell_type": "code",
   "execution_count": 74,
   "metadata": {},
   "outputs": [
    {
     "data": {
      "text/plain": [
       "{'criterion': 'entropy',\n",
       " 'max_depth': 5,\n",
       " 'max_features': None,\n",
       " 'min_samples_split': 2}"
      ]
     },
     "execution_count": 74,
     "metadata": {},
     "output_type": "execute_result"
    }
   ],
   "source": [
    "# Testing Parameters. Decision Tree Classifier\n",
    "param_grid = dict(criterion = ['gini', 'entropy'] , \n",
    "                  min_samples_split = [2, 4, 8, 12, 16, 20, 24, 26],\n",
    "                  max_depth = [None, 1, 2, 3, 4, 5, 6, 7],\n",
    "                  max_features = [None, 'sqrt', 'log2', 'auto'])\n",
    "clf = GridSearchCV(DecisionTreeClassifier(random_state = 45), param_grid = param_grid, cv=10,\n",
    "                       scoring='f1')\n",
    "clf.fit(pca_df.iloc[:,1:], pca_df.poi)\n",
    "clf.best_params_"
   ]
  },
  {
   "cell_type": "code",
   "execution_count": 75,
   "metadata": {},
   "outputs": [
    {
     "name": "stdout",
     "output_type": "stream",
     "text": [
      "DecisionTreeClassifier(class_weight=None, criterion='entropy', max_depth=5,\n",
      "            max_features=None, max_leaf_nodes=None,\n",
      "            min_impurity_decrease=0.0, min_impurity_split=None,\n",
      "            min_samples_leaf=1, min_samples_split=2,\n",
      "            min_weight_fraction_leaf=0.0, presort=False, random_state=None,\n",
      "            splitter='best')\n",
      "\tAccuracy: 0.82293\tPrecision: 0.27927\tRecall: 0.20750\tF1: 0.23810\tF2: 0.21874\n",
      "\tTotal predictions: 15000\tTrue positives:  415\tFalse positives: 1071\tFalse negatives: 1585\tTrue negatives: 11929\n",
      "\n"
     ]
    }
   ],
   "source": [
    "clf = DecisionTreeClassifier(criterion = 'entropy', max_depth = 5, max_features = None, \n",
    "                            min_samples_split = 2)\n",
    "dump_classifier_and_data(clf, pca_data_dict, pca_feat_list)\n",
    "tester.main()"
   ]
  },
  {
   "cell_type": "code",
   "execution_count": 76,
   "metadata": {},
   "outputs": [
    {
     "name": "stdout",
     "output_type": "stream",
     "text": [
      "GaussianNB(priors=None)\n",
      "\tAccuracy: 0.82260\tPrecision: 0.24635\tRecall: 0.16050\tF1: 0.19437\tF2: 0.17252\n",
      "\tTotal predictions: 15000\tTrue positives:  321\tFalse positives:  982\tFalse negatives: 1679\tTrue negatives: 12018\n",
      "\n"
     ]
    }
   ],
   "source": [
    "clf = GaussianNB()\n",
    "dump_classifier_and_data(clf, pca_data_dict, pca_feat_list)\n",
    "tester.main()"
   ]
  },
  {
   "cell_type": "code",
   "execution_count": 93,
   "metadata": {},
   "outputs": [
    {
     "data": {
      "image/png": "[encoded data removed]",
      "text/plain": [
       "<matplotlib.figure.Figure at 0x1a16a12c10>"
      ]
     },
     "metadata": {},
     "output_type": "display_data"
    }
   ],
   "source": [
    "P = pca_df.plot.scatter(x=1, y=2, c='poi', s=50, alpha = 0.7);\n",
    "P.set_facecolor('#99cccc')"
   ]
  },
  {
   "cell_type": "code",
   "execution_count": null,
   "metadata": {},
   "outputs": [],
   "source": []
  }
 ],
 "metadata": {
  "kernelspec": {
   "display_name": "Python 2",
   "language": "python",
   "name": "python2"
  },
  "language_info": {
   "codemirror_mode": {
    "name": "ipython",
    "version": 2
   },
   "file_extension": ".py",
   "mimetype": "text/x-python",
   "name": "python",
   "nbconvert_exporter": "python",
   "pygments_lexer": "ipython2",
   "version": "2.7.14"
  }
 },
 "nbformat": 4,
 "nbformat_minor": 2
}
